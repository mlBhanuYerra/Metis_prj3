{
 "cells": [
  {
   "cell_type": "code",
   "execution_count": 39,
   "metadata": {
    "ExecuteTime": {
     "end_time": "2019-10-22T02:04:37.258459Z",
     "start_time": "2019-10-22T02:04:37.241274Z"
    }
   },
   "outputs": [],
   "source": [
    "import numpy as np\n",
    "import pandas as pd\n",
    "\n",
    "import os, glob, re, scipy.io\n",
    "import seaborn as sns\n",
    "import matplotlib.pyplot as plt\n",
    "\n",
    "from keras.preprocessing import image\n",
    "from keras.models import Model\n",
    "\n",
    "from sklearn.preprocessing import label_binarize\n",
    "\n",
    "from sklearn.model_selection import train_test_split, TimeSeriesSplit\n",
    "from sklearn.linear_model import LogisticRegression\n",
    "from sklearn.metrics import r2_score\n",
    "from sklearn.metrics import mean_absolute_error as mae\n",
    "from sklearn.metrics import mean_squared_error as mse\n",
    "\n",
    "from sklearn.metrics import precision_score, recall_score, precision_recall_curve, f1_score, fbeta_score\n",
    "from sklearn.metrics import roc_auc_score, roc_curve, auc\n",
    "from sklearn.metrics import confusion_matrix, classification_report\n",
    "\n",
    "from sklearn.utils.multiclass import unique_labels\n",
    "\n",
    "from StanfordCars import *\n",
    "\n",
    "%matplotlib inline"
   ]
  },
  {
   "cell_type": "code",
   "execution_count": 16,
   "metadata": {
    "ExecuteTime": {
     "end_time": "2019-10-21T23:32:07.477678Z",
     "start_time": "2019-10-21T23:32:00.570671Z"
    }
   },
   "outputs": [],
   "source": [
    "x_features = pd.read_csv(\"../Data/features/ResNet50V2.csv\")\n",
    "y_features = pd.read_csv(\"../Data/cars_agg_label.csv\")"
   ]
  },
  {
   "cell_type": "code",
   "execution_count": 17,
   "metadata": {
    "ExecuteTime": {
     "end_time": "2019-10-21T23:32:07.506150Z",
     "start_time": "2019-10-21T23:32:07.479394Z"
    }
   },
   "outputs": [
    {
     "data": {
      "text/html": [
       "<div>\n",
       "<style scoped>\n",
       "    .dataframe tbody tr th:only-of-type {\n",
       "        vertical-align: middle;\n",
       "    }\n",
       "\n",
       "    .dataframe tbody tr th {\n",
       "        vertical-align: top;\n",
       "    }\n",
       "\n",
       "    .dataframe thead th {\n",
       "        text-align: right;\n",
       "    }\n",
       "</style>\n",
       "<table border=\"1\" class=\"dataframe\">\n",
       "  <thead>\n",
       "    <tr style=\"text-align: right;\">\n",
       "      <th></th>\n",
       "      <th>Unnamed: 0</th>\n",
       "      <th>0</th>\n",
       "      <th>1</th>\n",
       "      <th>2</th>\n",
       "      <th>3</th>\n",
       "      <th>4</th>\n",
       "      <th>5</th>\n",
       "      <th>6</th>\n",
       "      <th>7</th>\n",
       "      <th>8</th>\n",
       "      <th>...</th>\n",
       "      <th>2039</th>\n",
       "      <th>2040</th>\n",
       "      <th>2041</th>\n",
       "      <th>2042</th>\n",
       "      <th>2043</th>\n",
       "      <th>2044</th>\n",
       "      <th>2045</th>\n",
       "      <th>2046</th>\n",
       "      <th>2047</th>\n",
       "      <th>2048</th>\n",
       "    </tr>\n",
       "  </thead>\n",
       "  <tbody>\n",
       "    <tr>\n",
       "      <td>0</td>\n",
       "      <td>0</td>\n",
       "      <td>1.0</td>\n",
       "      <td>0.000000</td>\n",
       "      <td>0.012596</td>\n",
       "      <td>0.120071</td>\n",
       "      <td>0.309453</td>\n",
       "      <td>0.007612</td>\n",
       "      <td>0.000000</td>\n",
       "      <td>0.076121</td>\n",
       "      <td>0.077668</td>\n",
       "      <td>...</td>\n",
       "      <td>2.643185</td>\n",
       "      <td>0.131538</td>\n",
       "      <td>1.240236</td>\n",
       "      <td>0.000000</td>\n",
       "      <td>0.000000</td>\n",
       "      <td>0.000000</td>\n",
       "      <td>0.043995</td>\n",
       "      <td>0.000000</td>\n",
       "      <td>0.154178</td>\n",
       "      <td>0.048653</td>\n",
       "    </tr>\n",
       "    <tr>\n",
       "      <td>1</td>\n",
       "      <td>1</td>\n",
       "      <td>2.0</td>\n",
       "      <td>0.243451</td>\n",
       "      <td>0.175610</td>\n",
       "      <td>0.000000</td>\n",
       "      <td>0.147863</td>\n",
       "      <td>0.091545</td>\n",
       "      <td>0.002759</td>\n",
       "      <td>0.373483</td>\n",
       "      <td>0.000000</td>\n",
       "      <td>...</td>\n",
       "      <td>0.066327</td>\n",
       "      <td>0.031358</td>\n",
       "      <td>1.078131</td>\n",
       "      <td>0.000000</td>\n",
       "      <td>0.181330</td>\n",
       "      <td>0.000000</td>\n",
       "      <td>0.007089</td>\n",
       "      <td>0.000000</td>\n",
       "      <td>0.000000</td>\n",
       "      <td>1.083276</td>\n",
       "    </tr>\n",
       "    <tr>\n",
       "      <td>2</td>\n",
       "      <td>2</td>\n",
       "      <td>3.0</td>\n",
       "      <td>0.419935</td>\n",
       "      <td>0.066022</td>\n",
       "      <td>0.000000</td>\n",
       "      <td>0.415106</td>\n",
       "      <td>0.187857</td>\n",
       "      <td>0.000000</td>\n",
       "      <td>0.499103</td>\n",
       "      <td>0.425839</td>\n",
       "      <td>...</td>\n",
       "      <td>0.000000</td>\n",
       "      <td>0.411669</td>\n",
       "      <td>0.233997</td>\n",
       "      <td>0.000000</td>\n",
       "      <td>0.000000</td>\n",
       "      <td>0.000000</td>\n",
       "      <td>0.819586</td>\n",
       "      <td>0.300490</td>\n",
       "      <td>0.316500</td>\n",
       "      <td>0.366219</td>\n",
       "    </tr>\n",
       "    <tr>\n",
       "      <td>3</td>\n",
       "      <td>3</td>\n",
       "      <td>4.0</td>\n",
       "      <td>0.000000</td>\n",
       "      <td>0.083751</td>\n",
       "      <td>0.000000</td>\n",
       "      <td>0.185094</td>\n",
       "      <td>1.020264</td>\n",
       "      <td>0.000000</td>\n",
       "      <td>3.116575</td>\n",
       "      <td>0.000000</td>\n",
       "      <td>...</td>\n",
       "      <td>0.014846</td>\n",
       "      <td>0.000000</td>\n",
       "      <td>0.645826</td>\n",
       "      <td>0.002735</td>\n",
       "      <td>0.000000</td>\n",
       "      <td>0.000000</td>\n",
       "      <td>0.176704</td>\n",
       "      <td>0.088208</td>\n",
       "      <td>0.055926</td>\n",
       "      <td>0.071617</td>\n",
       "    </tr>\n",
       "    <tr>\n",
       "      <td>4</td>\n",
       "      <td>4</td>\n",
       "      <td>5.0</td>\n",
       "      <td>0.260006</td>\n",
       "      <td>0.669161</td>\n",
       "      <td>0.000000</td>\n",
       "      <td>1.843931</td>\n",
       "      <td>0.048473</td>\n",
       "      <td>0.000000</td>\n",
       "      <td>0.161237</td>\n",
       "      <td>0.000000</td>\n",
       "      <td>...</td>\n",
       "      <td>0.000000</td>\n",
       "      <td>0.421983</td>\n",
       "      <td>0.295613</td>\n",
       "      <td>0.000000</td>\n",
       "      <td>0.047306</td>\n",
       "      <td>0.000000</td>\n",
       "      <td>4.217002</td>\n",
       "      <td>0.246620</td>\n",
       "      <td>0.038378</td>\n",
       "      <td>0.000000</td>\n",
       "    </tr>\n",
       "    <tr>\n",
       "      <td>...</td>\n",
       "      <td>...</td>\n",
       "      <td>...</td>\n",
       "      <td>...</td>\n",
       "      <td>...</td>\n",
       "      <td>...</td>\n",
       "      <td>...</td>\n",
       "      <td>...</td>\n",
       "      <td>...</td>\n",
       "      <td>...</td>\n",
       "      <td>...</td>\n",
       "      <td>...</td>\n",
       "      <td>...</td>\n",
       "      <td>...</td>\n",
       "      <td>...</td>\n",
       "      <td>...</td>\n",
       "      <td>...</td>\n",
       "      <td>...</td>\n",
       "      <td>...</td>\n",
       "      <td>...</td>\n",
       "      <td>...</td>\n",
       "      <td>...</td>\n",
       "    </tr>\n",
       "    <tr>\n",
       "      <td>16180</td>\n",
       "      <td>16180</td>\n",
       "      <td>16181.0</td>\n",
       "      <td>0.082513</td>\n",
       "      <td>0.075980</td>\n",
       "      <td>0.000000</td>\n",
       "      <td>0.052432</td>\n",
       "      <td>1.333207</td>\n",
       "      <td>0.001532</td>\n",
       "      <td>0.414663</td>\n",
       "      <td>0.000000</td>\n",
       "      <td>...</td>\n",
       "      <td>0.038879</td>\n",
       "      <td>0.042285</td>\n",
       "      <td>0.053816</td>\n",
       "      <td>0.000000</td>\n",
       "      <td>0.064001</td>\n",
       "      <td>0.034788</td>\n",
       "      <td>0.789938</td>\n",
       "      <td>0.000000</td>\n",
       "      <td>0.000000</td>\n",
       "      <td>0.042599</td>\n",
       "    </tr>\n",
       "    <tr>\n",
       "      <td>16181</td>\n",
       "      <td>16181</td>\n",
       "      <td>16182.0</td>\n",
       "      <td>0.471161</td>\n",
       "      <td>0.087483</td>\n",
       "      <td>0.000000</td>\n",
       "      <td>0.461428</td>\n",
       "      <td>1.947700</td>\n",
       "      <td>0.010083</td>\n",
       "      <td>0.280927</td>\n",
       "      <td>0.000000</td>\n",
       "      <td>...</td>\n",
       "      <td>0.000000</td>\n",
       "      <td>0.170785</td>\n",
       "      <td>0.003752</td>\n",
       "      <td>0.000000</td>\n",
       "      <td>0.116758</td>\n",
       "      <td>0.000000</td>\n",
       "      <td>0.957595</td>\n",
       "      <td>0.219618</td>\n",
       "      <td>0.084755</td>\n",
       "      <td>0.212575</td>\n",
       "    </tr>\n",
       "    <tr>\n",
       "      <td>16182</td>\n",
       "      <td>16182</td>\n",
       "      <td>16183.0</td>\n",
       "      <td>0.159382</td>\n",
       "      <td>0.083232</td>\n",
       "      <td>0.063633</td>\n",
       "      <td>0.021807</td>\n",
       "      <td>1.207736</td>\n",
       "      <td>0.000190</td>\n",
       "      <td>0.129480</td>\n",
       "      <td>0.147024</td>\n",
       "      <td>...</td>\n",
       "      <td>0.000000</td>\n",
       "      <td>0.100800</td>\n",
       "      <td>0.001576</td>\n",
       "      <td>0.000960</td>\n",
       "      <td>0.134279</td>\n",
       "      <td>0.361468</td>\n",
       "      <td>0.261883</td>\n",
       "      <td>0.000000</td>\n",
       "      <td>0.000000</td>\n",
       "      <td>0.037256</td>\n",
       "    </tr>\n",
       "    <tr>\n",
       "      <td>16183</td>\n",
       "      <td>16183</td>\n",
       "      <td>16184.0</td>\n",
       "      <td>0.337409</td>\n",
       "      <td>0.092682</td>\n",
       "      <td>0.270629</td>\n",
       "      <td>1.333602</td>\n",
       "      <td>0.766521</td>\n",
       "      <td>0.000000</td>\n",
       "      <td>0.000000</td>\n",
       "      <td>0.305481</td>\n",
       "      <td>...</td>\n",
       "      <td>0.023689</td>\n",
       "      <td>0.000000</td>\n",
       "      <td>1.127332</td>\n",
       "      <td>0.000000</td>\n",
       "      <td>0.147584</td>\n",
       "      <td>0.024998</td>\n",
       "      <td>1.018375</td>\n",
       "      <td>0.013916</td>\n",
       "      <td>0.000000</td>\n",
       "      <td>0.392464</td>\n",
       "    </tr>\n",
       "    <tr>\n",
       "      <td>16184</td>\n",
       "      <td>16184</td>\n",
       "      <td>16185.0</td>\n",
       "      <td>0.359944</td>\n",
       "      <td>0.000000</td>\n",
       "      <td>0.002881</td>\n",
       "      <td>0.009293</td>\n",
       "      <td>1.719367</td>\n",
       "      <td>0.000000</td>\n",
       "      <td>0.015435</td>\n",
       "      <td>0.000000</td>\n",
       "      <td>...</td>\n",
       "      <td>0.031547</td>\n",
       "      <td>0.000000</td>\n",
       "      <td>0.005408</td>\n",
       "      <td>0.000000</td>\n",
       "      <td>0.098344</td>\n",
       "      <td>0.191236</td>\n",
       "      <td>1.641592</td>\n",
       "      <td>0.019668</td>\n",
       "      <td>0.457622</td>\n",
       "      <td>0.328362</td>\n",
       "    </tr>\n",
       "  </tbody>\n",
       "</table>\n",
       "<p>16185 rows × 2050 columns</p>\n",
       "</div>"
      ],
      "text/plain": [
       "       Unnamed: 0        0         1         2         3         4         5  \\\n",
       "0               0      1.0  0.000000  0.012596  0.120071  0.309453  0.007612   \n",
       "1               1      2.0  0.243451  0.175610  0.000000  0.147863  0.091545   \n",
       "2               2      3.0  0.419935  0.066022  0.000000  0.415106  0.187857   \n",
       "3               3      4.0  0.000000  0.083751  0.000000  0.185094  1.020264   \n",
       "4               4      5.0  0.260006  0.669161  0.000000  1.843931  0.048473   \n",
       "...           ...      ...       ...       ...       ...       ...       ...   \n",
       "16180       16180  16181.0  0.082513  0.075980  0.000000  0.052432  1.333207   \n",
       "16181       16181  16182.0  0.471161  0.087483  0.000000  0.461428  1.947700   \n",
       "16182       16182  16183.0  0.159382  0.083232  0.063633  0.021807  1.207736   \n",
       "16183       16183  16184.0  0.337409  0.092682  0.270629  1.333602  0.766521   \n",
       "16184       16184  16185.0  0.359944  0.000000  0.002881  0.009293  1.719367   \n",
       "\n",
       "              6         7         8  ...      2039      2040      2041  \\\n",
       "0      0.000000  0.076121  0.077668  ...  2.643185  0.131538  1.240236   \n",
       "1      0.002759  0.373483  0.000000  ...  0.066327  0.031358  1.078131   \n",
       "2      0.000000  0.499103  0.425839  ...  0.000000  0.411669  0.233997   \n",
       "3      0.000000  3.116575  0.000000  ...  0.014846  0.000000  0.645826   \n",
       "4      0.000000  0.161237  0.000000  ...  0.000000  0.421983  0.295613   \n",
       "...         ...       ...       ...  ...       ...       ...       ...   \n",
       "16180  0.001532  0.414663  0.000000  ...  0.038879  0.042285  0.053816   \n",
       "16181  0.010083  0.280927  0.000000  ...  0.000000  0.170785  0.003752   \n",
       "16182  0.000190  0.129480  0.147024  ...  0.000000  0.100800  0.001576   \n",
       "16183  0.000000  0.000000  0.305481  ...  0.023689  0.000000  1.127332   \n",
       "16184  0.000000  0.015435  0.000000  ...  0.031547  0.000000  0.005408   \n",
       "\n",
       "           2042      2043      2044      2045      2046      2047      2048  \n",
       "0      0.000000  0.000000  0.000000  0.043995  0.000000  0.154178  0.048653  \n",
       "1      0.000000  0.181330  0.000000  0.007089  0.000000  0.000000  1.083276  \n",
       "2      0.000000  0.000000  0.000000  0.819586  0.300490  0.316500  0.366219  \n",
       "3      0.002735  0.000000  0.000000  0.176704  0.088208  0.055926  0.071617  \n",
       "4      0.000000  0.047306  0.000000  4.217002  0.246620  0.038378  0.000000  \n",
       "...         ...       ...       ...       ...       ...       ...       ...  \n",
       "16180  0.000000  0.064001  0.034788  0.789938  0.000000  0.000000  0.042599  \n",
       "16181  0.000000  0.116758  0.000000  0.957595  0.219618  0.084755  0.212575  \n",
       "16182  0.000960  0.134279  0.361468  0.261883  0.000000  0.000000  0.037256  \n",
       "16183  0.000000  0.147584  0.024998  1.018375  0.013916  0.000000  0.392464  \n",
       "16184  0.000000  0.098344  0.191236  1.641592  0.019668  0.457622  0.328362  \n",
       "\n",
       "[16185 rows x 2050 columns]"
      ]
     },
     "execution_count": 17,
     "metadata": {},
     "output_type": "execute_result"
    }
   ],
   "source": [
    "x_features"
   ]
  },
  {
   "cell_type": "code",
   "execution_count": 18,
   "metadata": {
    "ExecuteTime": {
     "end_time": "2019-10-21T23:32:07.523571Z",
     "start_time": "2019-10-21T23:32:07.508152Z"
    }
   },
   "outputs": [
    {
     "data": {
      "text/html": [
       "<div>\n",
       "<style scoped>\n",
       "    .dataframe tbody tr th:only-of-type {\n",
       "        vertical-align: middle;\n",
       "    }\n",
       "\n",
       "    .dataframe tbody tr th {\n",
       "        vertical-align: top;\n",
       "    }\n",
       "\n",
       "    .dataframe thead th {\n",
       "        text-align: right;\n",
       "    }\n",
       "</style>\n",
       "<table border=\"1\" class=\"dataframe\">\n",
       "  <thead>\n",
       "    <tr style=\"text-align: right;\">\n",
       "      <th></th>\n",
       "      <th>Unnamed: 0</th>\n",
       "      <th>fileNumber</th>\n",
       "      <th>xmin</th>\n",
       "      <th>ymin</th>\n",
       "      <th>xmax</th>\n",
       "      <th>ymax</th>\n",
       "      <th>class_no</th>\n",
       "      <th>class_label</th>\n",
       "      <th>train_test</th>\n",
       "      <th>subclass</th>\n",
       "      <th>Label1</th>\n",
       "      <th>Label1_No</th>\n",
       "      <th>Label2</th>\n",
       "      <th>Label2_No</th>\n",
       "    </tr>\n",
       "  </thead>\n",
       "  <tbody>\n",
       "    <tr>\n",
       "      <td>0</td>\n",
       "      <td>0</td>\n",
       "      <td>1</td>\n",
       "      <td>112</td>\n",
       "      <td>7</td>\n",
       "      <td>853</td>\n",
       "      <td>717</td>\n",
       "      <td>1</td>\n",
       "      <td>AM General Hummer SUV 2000</td>\n",
       "      <td>0</td>\n",
       "      <td>u</td>\n",
       "      <td>SUVs/Trucks/Vans</td>\n",
       "      <td>3</td>\n",
       "      <td>SUV</td>\n",
       "      <td>3</td>\n",
       "    </tr>\n",
       "    <tr>\n",
       "      <td>1</td>\n",
       "      <td>1</td>\n",
       "      <td>2</td>\n",
       "      <td>48</td>\n",
       "      <td>24</td>\n",
       "      <td>441</td>\n",
       "      <td>202</td>\n",
       "      <td>1</td>\n",
       "      <td>AM General Hummer SUV 2000</td>\n",
       "      <td>0</td>\n",
       "      <td>u</td>\n",
       "      <td>SUVs/Trucks/Vans</td>\n",
       "      <td>3</td>\n",
       "      <td>SUV</td>\n",
       "      <td>3</td>\n",
       "    </tr>\n",
       "    <tr>\n",
       "      <td>2</td>\n",
       "      <td>2</td>\n",
       "      <td>3</td>\n",
       "      <td>7</td>\n",
       "      <td>4</td>\n",
       "      <td>277</td>\n",
       "      <td>180</td>\n",
       "      <td>1</td>\n",
       "      <td>AM General Hummer SUV 2000</td>\n",
       "      <td>0</td>\n",
       "      <td>u</td>\n",
       "      <td>SUVs/Trucks/Vans</td>\n",
       "      <td>3</td>\n",
       "      <td>SUV</td>\n",
       "      <td>3</td>\n",
       "    </tr>\n",
       "    <tr>\n",
       "      <td>3</td>\n",
       "      <td>3</td>\n",
       "      <td>4</td>\n",
       "      <td>33</td>\n",
       "      <td>50</td>\n",
       "      <td>197</td>\n",
       "      <td>150</td>\n",
       "      <td>1</td>\n",
       "      <td>AM General Hummer SUV 2000</td>\n",
       "      <td>0</td>\n",
       "      <td>u</td>\n",
       "      <td>SUVs/Trucks/Vans</td>\n",
       "      <td>3</td>\n",
       "      <td>SUV</td>\n",
       "      <td>3</td>\n",
       "    </tr>\n",
       "    <tr>\n",
       "      <td>4</td>\n",
       "      <td>4</td>\n",
       "      <td>5</td>\n",
       "      <td>5</td>\n",
       "      <td>8</td>\n",
       "      <td>83</td>\n",
       "      <td>58</td>\n",
       "      <td>1</td>\n",
       "      <td>AM General Hummer SUV 2000</td>\n",
       "      <td>0</td>\n",
       "      <td>u</td>\n",
       "      <td>SUVs/Trucks/Vans</td>\n",
       "      <td>3</td>\n",
       "      <td>SUV</td>\n",
       "      <td>3</td>\n",
       "    </tr>\n",
       "    <tr>\n",
       "      <td>...</td>\n",
       "      <td>...</td>\n",
       "      <td>...</td>\n",
       "      <td>...</td>\n",
       "      <td>...</td>\n",
       "      <td>...</td>\n",
       "      <td>...</td>\n",
       "      <td>...</td>\n",
       "      <td>...</td>\n",
       "      <td>...</td>\n",
       "      <td>...</td>\n",
       "      <td>...</td>\n",
       "      <td>...</td>\n",
       "      <td>...</td>\n",
       "      <td>...</td>\n",
       "    </tr>\n",
       "    <tr>\n",
       "      <td>16180</td>\n",
       "      <td>16180</td>\n",
       "      <td>16181</td>\n",
       "      <td>38</td>\n",
       "      <td>36</td>\n",
       "      <td>375</td>\n",
       "      <td>234</td>\n",
       "      <td>196</td>\n",
       "      <td>smart fortwo Convertible 2012</td>\n",
       "      <td>1</td>\n",
       "      <td>c</td>\n",
       "      <td>Coupe/Convrtbl</td>\n",
       "      <td>1</td>\n",
       "      <td>Coupe/Convrtbl</td>\n",
       "      <td>1</td>\n",
       "    </tr>\n",
       "    <tr>\n",
       "      <td>16181</td>\n",
       "      <td>16181</td>\n",
       "      <td>16182</td>\n",
       "      <td>29</td>\n",
       "      <td>34</td>\n",
       "      <td>235</td>\n",
       "      <td>164</td>\n",
       "      <td>196</td>\n",
       "      <td>smart fortwo Convertible 2012</td>\n",
       "      <td>1</td>\n",
       "      <td>c</td>\n",
       "      <td>Coupe/Convrtbl</td>\n",
       "      <td>1</td>\n",
       "      <td>Coupe/Convrtbl</td>\n",
       "      <td>1</td>\n",
       "    </tr>\n",
       "    <tr>\n",
       "      <td>16182</td>\n",
       "      <td>16182</td>\n",
       "      <td>16183</td>\n",
       "      <td>25</td>\n",
       "      <td>32</td>\n",
       "      <td>587</td>\n",
       "      <td>359</td>\n",
       "      <td>196</td>\n",
       "      <td>smart fortwo Convertible 2012</td>\n",
       "      <td>1</td>\n",
       "      <td>c</td>\n",
       "      <td>Coupe/Convrtbl</td>\n",
       "      <td>1</td>\n",
       "      <td>Coupe/Convrtbl</td>\n",
       "      <td>1</td>\n",
       "    </tr>\n",
       "    <tr>\n",
       "      <td>16183</td>\n",
       "      <td>16183</td>\n",
       "      <td>16184</td>\n",
       "      <td>56</td>\n",
       "      <td>60</td>\n",
       "      <td>208</td>\n",
       "      <td>186</td>\n",
       "      <td>196</td>\n",
       "      <td>smart fortwo Convertible 2012</td>\n",
       "      <td>1</td>\n",
       "      <td>c</td>\n",
       "      <td>Coupe/Convrtbl</td>\n",
       "      <td>1</td>\n",
       "      <td>Coupe/Convrtbl</td>\n",
       "      <td>1</td>\n",
       "    </tr>\n",
       "    <tr>\n",
       "      <td>16184</td>\n",
       "      <td>16184</td>\n",
       "      <td>16185</td>\n",
       "      <td>1</td>\n",
       "      <td>1</td>\n",
       "      <td>200</td>\n",
       "      <td>131</td>\n",
       "      <td>196</td>\n",
       "      <td>smart fortwo Convertible 2012</td>\n",
       "      <td>1</td>\n",
       "      <td>c</td>\n",
       "      <td>Coupe/Convrtbl</td>\n",
       "      <td>1</td>\n",
       "      <td>Coupe/Convrtbl</td>\n",
       "      <td>1</td>\n",
       "    </tr>\n",
       "  </tbody>\n",
       "</table>\n",
       "<p>16185 rows × 14 columns</p>\n",
       "</div>"
      ],
      "text/plain": [
       "       Unnamed: 0  fileNumber  xmin  ymin  xmax  ymax  class_no  \\\n",
       "0               0           1   112     7   853   717         1   \n",
       "1               1           2    48    24   441   202         1   \n",
       "2               2           3     7     4   277   180         1   \n",
       "3               3           4    33    50   197   150         1   \n",
       "4               4           5     5     8    83    58         1   \n",
       "...           ...         ...   ...   ...   ...   ...       ...   \n",
       "16180       16180       16181    38    36   375   234       196   \n",
       "16181       16181       16182    29    34   235   164       196   \n",
       "16182       16182       16183    25    32   587   359       196   \n",
       "16183       16183       16184    56    60   208   186       196   \n",
       "16184       16184       16185     1     1   200   131       196   \n",
       "\n",
       "                         class_label  train_test subclass            Label1  \\\n",
       "0         AM General Hummer SUV 2000           0        u  SUVs/Trucks/Vans   \n",
       "1         AM General Hummer SUV 2000           0        u  SUVs/Trucks/Vans   \n",
       "2         AM General Hummer SUV 2000           0        u  SUVs/Trucks/Vans   \n",
       "3         AM General Hummer SUV 2000           0        u  SUVs/Trucks/Vans   \n",
       "4         AM General Hummer SUV 2000           0        u  SUVs/Trucks/Vans   \n",
       "...                              ...         ...      ...               ...   \n",
       "16180  smart fortwo Convertible 2012           1        c    Coupe/Convrtbl   \n",
       "16181  smart fortwo Convertible 2012           1        c    Coupe/Convrtbl   \n",
       "16182  smart fortwo Convertible 2012           1        c    Coupe/Convrtbl   \n",
       "16183  smart fortwo Convertible 2012           1        c    Coupe/Convrtbl   \n",
       "16184  smart fortwo Convertible 2012           1        c    Coupe/Convrtbl   \n",
       "\n",
       "       Label1_No          Label2  Label2_No  \n",
       "0              3             SUV          3  \n",
       "1              3             SUV          3  \n",
       "2              3             SUV          3  \n",
       "3              3             SUV          3  \n",
       "4              3             SUV          3  \n",
       "...          ...             ...        ...  \n",
       "16180          1  Coupe/Convrtbl          1  \n",
       "16181          1  Coupe/Convrtbl          1  \n",
       "16182          1  Coupe/Convrtbl          1  \n",
       "16183          1  Coupe/Convrtbl          1  \n",
       "16184          1  Coupe/Convrtbl          1  \n",
       "\n",
       "[16185 rows x 14 columns]"
      ]
     },
     "execution_count": 18,
     "metadata": {},
     "output_type": "execute_result"
    }
   ],
   "source": [
    "y_features"
   ]
  },
  {
   "cell_type": "code",
   "execution_count": 19,
   "metadata": {
    "ExecuteTime": {
     "end_time": "2019-10-21T23:32:08.036126Z",
     "start_time": "2019-10-21T23:32:07.524853Z"
    }
   },
   "outputs": [],
   "source": [
    "X_train, X_test, y_train, y_test = train_test_split(\n",
    "    x_features.iloc[:,2:], y_features[\"Label1_No\"], test_size=0.20, random_state=333)"
   ]
  },
  {
   "cell_type": "code",
   "execution_count": 21,
   "metadata": {
    "ExecuteTime": {
     "end_time": "2019-10-21T23:33:18.637653Z",
     "start_time": "2019-10-21T23:32:25.642471Z"
    }
   },
   "outputs": [
    {
     "name": "stderr",
     "output_type": "stream",
     "text": [
      "//anaconda3/envs/metis/lib/python3.7/site-packages/sklearn/linear_model/logistic.py:469: FutureWarning: Default multi_class will be changed to 'auto' in 0.22. Specify the multi_class option to silence this warning.\n",
      "  \"this warning.\", FutureWarning)\n",
      "[Parallel(n_jobs=1)]: Using backend SequentialBackend with 1 concurrent workers.\n"
     ]
    },
    {
     "name": "stdout",
     "output_type": "stream",
     "text": [
      "max_iter reached after 17 seconds\n"
     ]
    },
    {
     "name": "stderr",
     "output_type": "stream",
     "text": [
      "//anaconda3/envs/metis/lib/python3.7/site-packages/sklearn/linear_model/sag.py:337: ConvergenceWarning: The max_iter was reached which means the coef_ did not converge\n",
      "  \"the coef_ did not converge\", ConvergenceWarning)\n"
     ]
    },
    {
     "name": "stdout",
     "output_type": "stream",
     "text": [
      "max_iter reached after 17 seconds\n",
      "max_iter reached after 18 seconds\n"
     ]
    },
    {
     "name": "stderr",
     "output_type": "stream",
     "text": [
      "[Parallel(n_jobs=1)]: Done   3 out of   3 | elapsed:   52.6s finished\n"
     ]
    },
    {
     "data": {
      "text/plain": [
       "LogisticRegression(C=100000, class_weight=None, dual=False, fit_intercept=True,\n",
       "                   intercept_scaling=1, l1_ratio=None, max_iter=100,\n",
       "                   multi_class='warn', n_jobs=None, penalty='l2',\n",
       "                   random_state=None, solver='saga', tol=0.0001, verbose=True,\n",
       "                   warm_start=False)"
      ]
     },
     "execution_count": 21,
     "metadata": {},
     "output_type": "execute_result"
    }
   ],
   "source": [
    "logreg = LogisticRegression(C=100000, verbose=True, solver=\"saga\") # C: Inverse of regularization strength; \n",
    "logreg.fit(X_train,y_train)"
   ]
  },
  {
   "cell_type": "code",
   "execution_count": 22,
   "metadata": {
    "ExecuteTime": {
     "end_time": "2019-10-21T23:34:12.190836Z",
     "start_time": "2019-10-21T23:34:12.185845Z"
    }
   },
   "outputs": [
    {
     "data": {
      "text/plain": [
       "['../Models/ResNet50V2/LogReg1.joblib']"
      ]
     },
     "execution_count": 22,
     "metadata": {},
     "output_type": "execute_result"
    }
   ],
   "source": [
    "from joblib import dump, load\n",
    "dump(\"logreg\", \"../Models/ResNet50V2/LogReg1.joblib\")"
   ]
  },
  {
   "cell_type": "code",
   "execution_count": 33,
   "metadata": {
    "ExecuteTime": {
     "end_time": "2019-10-22T02:04:01.041212Z",
     "start_time": "2019-10-22T02:04:00.577667Z"
    }
   },
   "outputs": [
    {
     "name": "stdout",
     "output_type": "stream",
     "text": [
      "Train Score for the Logit Model: 0.880\n",
      "Test Score for the Logit Model: 0.820\n"
     ]
    }
   ],
   "source": [
    "ytest_labels = logreg.predict(X_test)\n",
    "ytest_prob = logreg.predict_proba(X_test)\n",
    "train_score = logreg.score(X_train, y_train)\n",
    "test_score = logreg.score(X_test, y_test)\n",
    "print(\"Train Score for the Logit Model: {:.3f}\".format(train_score))\n",
    "print(\"Test Score for the Logit Model: {:.3f}\".format(test_score))"
   ]
  },
  {
   "cell_type": "code",
   "execution_count": 34,
   "metadata": {
    "ExecuteTime": {
     "end_time": "2019-10-22T02:04:04.898677Z",
     "start_time": "2019-10-22T02:04:04.888785Z"
    }
   },
   "outputs": [
    {
     "data": {
      "text/plain": [
       "0.8187984300349725"
      ]
     },
     "execution_count": 34,
     "metadata": {},
     "output_type": "execute_result"
    }
   ],
   "source": [
    "f1_score(y_test, ytest_labels, average=\"macro\")"
   ]
  },
  {
   "cell_type": "code",
   "execution_count": 35,
   "metadata": {
    "ExecuteTime": {
     "end_time": "2019-10-22T02:04:07.182167Z",
     "start_time": "2019-10-22T02:04:07.172432Z"
    }
   },
   "outputs": [
    {
     "name": "stdout",
     "output_type": "stream",
     "text": [
      "Confusion matrix: \n",
      "\n",
      " [[ 849  164   18]\n",
      " [ 180  796  112]\n",
      " [  17   91 1010]]\n"
     ]
    }
   ],
   "source": [
    "labels = [\"Coupe/Convrtbl\", \"Sedan\", \"SUVs/Trucks/Vans\"]\n",
    "print(\"Confusion matrix: \\n\\n\", confusion_matrix(y_test, ytest_labels))"
   ]
  },
  {
   "cell_type": "code",
   "execution_count": 36,
   "metadata": {
    "ExecuteTime": {
     "end_time": "2019-10-22T02:04:09.069513Z",
     "start_time": "2019-10-22T02:04:08.765400Z"
    }
   },
   "outputs": [
    {
     "data": {
      "image/png": "[encoded data removed]",
      "text/plain": [
       "<Figure size 1500x1500 with 2 Axes>"
      ]
     },
     "metadata": {
      "needs_background": "light"
     },
     "output_type": "display_data"
    }
   ],
   "source": [
    "Mobile_confusion = confusion_matrix(y_test, ytest_labels)\n",
    "plt.figure(dpi=150)\n",
    "sns.heatmap(Mobile_confusion, cmap=plt.cm.Blues, annot=False, square=True,\n",
    "           xticklabels=labels,\n",
    "           yticklabels=labels)\n",
    "\n",
    "plt.xlabel('Predicted Car Class')\n",
    "plt.ylabel('Actual Car Class')\n",
    "plt.title('Car Classes Confusion Matrix: MobileNetV2 w. Logit');"
   ]
  },
  {
   "cell_type": "code",
   "execution_count": 37,
   "metadata": {
    "ExecuteTime": {
     "end_time": "2019-10-22T02:04:15.554688Z",
     "start_time": "2019-10-22T02:04:15.543428Z"
    }
   },
   "outputs": [],
   "source": [
    "def plot_confusion_matrix(y_true, y_pred, classes,\n",
    "                          normalize=False,\n",
    "                          title=None,\n",
    "                          cmap=plt.cm.Blues):\n",
    "    \"\"\"\n",
    "    This function prints and plots the confusion matrix.\n",
    "    Normalization can be applied by setting `normalize=True`.\n",
    "    \"\"\"\n",
    "    if not title:\n",
    "        if normalize:\n",
    "            title = 'Normalized confusion matrix'\n",
    "        else:\n",
    "            title = 'Confusion matrix, without normalization'\n",
    "\n",
    "    # Compute confusion matrix\n",
    "    cm = confusion_matrix(y_true, y_pred)\n",
    "    # Only use the labels that appear in the data\n",
    "    #classes = classes[unique_labels(y_true, y_pred)]\n",
    "    if normalize:\n",
    "        cm = cm.astype('float') / cm.sum(axis=1)[:, np.newaxis]\n",
    "        print(\"Normalized confusion matrix\")\n",
    "    else:\n",
    "        print('Confusion matrix, without normalization')\n",
    "\n",
    "    print(cm)\n",
    "\n",
    "    fig, ax = plt.subplots()\n",
    "    im = ax.imshow(cm, interpolation='nearest', cmap=cmap)\n",
    "    ax.figure.colorbar(im, ax=ax)\n",
    "    # We want to show all ticks...\n",
    "    ax.set(xticks=np.arange(cm.shape[1]),\n",
    "           yticks=np.arange(cm.shape[0]),\n",
    "           # ... and label them with the respective list entries\n",
    "           xticklabels=classes, yticklabels=classes,\n",
    "           title=title,\n",
    "           ylabel='True label',\n",
    "           xlabel='Predicted label')\n",
    "\n",
    "    # Rotate the tick labels and set their alignment.\n",
    "    plt.setp(ax.get_xticklabels(), rotation=45, ha=\"right\",\n",
    "             rotation_mode=\"anchor\")\n",
    "\n",
    "    # Loop over data dimensions and create text annotations.\n",
    "    fmt = '.2f' if normalize else 'd'\n",
    "    thresh = cm.max() / 2.\n",
    "    for i in range(cm.shape[0]):\n",
    "        for j in range(cm.shape[1]):\n",
    "            ax.text(j, i, format(cm[i, j], fmt),\n",
    "                    ha=\"center\", va=\"center\",\n",
    "                    color=\"white\" if cm[i, j] > thresh else \"black\")\n",
    "    fig.tight_layout()\n",
    "    return ax"
   ]
  },
  {
   "cell_type": "code",
   "execution_count": 27,
   "metadata": {
    "ExecuteTime": {
     "end_time": "2019-10-21T23:34:54.033509Z",
     "start_time": "2019-10-21T23:34:53.855208Z"
    }
   },
   "outputs": [
    {
     "name": "stdout",
     "output_type": "stream",
     "text": [
      "Confusion matrix, without normalization\n",
      "[[ 849  164   18]\n",
      " [ 180  796  112]\n",
      " [  17   91 1010]]\n"
     ]
    },
    {
     "data": {
      "text/plain": [
       "<matplotlib.axes._subplots.AxesSubplot at 0x137502160>"
      ]
     },
     "execution_count": 27,
     "metadata": {},
     "output_type": "execute_result"
    },
    {
     "data": {
      "image/png": "[encoded data removed]",
      "text/plain": [
       "<Figure size 432x288 with 2 Axes>"
      ]
     },
     "metadata": {
      "needs_background": "light"
     },
     "output_type": "display_data"
    }
   ],
   "source": [
    "plot_confusion_matrix(y_test, ytest_labels, labels)"
   ]
  },
  {
   "cell_type": "code",
   "execution_count": 45,
   "metadata": {
    "ExecuteTime": {
     "end_time": "2019-10-22T05:07:10.856632Z",
     "start_time": "2019-10-22T05:07:10.623801Z"
    }
   },
   "outputs": [
    {
     "data": {
      "image/png": "[encoded data removed]",
      "text/plain": [
       "<Figure size 720x720 with 1 Axes>"
      ]
     },
     "metadata": {
      "needs_background": "light"
     },
     "output_type": "display_data"
    }
   ],
   "source": [
    "# --- ROC Curves\n",
    "\n",
    "def create_ROC_Curves(y, ypred, classes=[1,2,3]):\n",
    "    fpr = dict()\n",
    "    tpr = dict()\n",
    "    auc_value = dict()\n",
    "    \n",
    "    # --- Binarize the true and preds\n",
    "    y_true_bin = label_binarize(y, classes)\n",
    "    #y_pred_bin = label_binarize(ypred, classes)\n",
    "    #print(y_true_bin.shape)\n",
    "    \n",
    "    labels = {\n",
    "        1: \"ROC Curve for Convertibles\",\n",
    "        2: \"ROC Curve for Sedans\",\n",
    "        3: \"ROC Curve for SUVs/Trucks/Vans\"\n",
    "    }\n",
    "    \n",
    "    # --- Get FPR, TPR & AUC for each class\n",
    "    for i in range(len(classes)):\n",
    "        fpr[i], tpr[i], _ = roc_curve(y_true_bin[:,i], ypred[:,i])\n",
    "        #print(len(fpr[i]))\n",
    "        auc_value[i] = auc(fpr[i], tpr[i])\n",
    "        plt.plot(fpr[i], tpr[i], label=labels[i+1]+\" (area = {:.2f})\".format(auc_value[i]),\n",
    "                 linestyle = \":\", lw=3)\n",
    "    \n",
    "    plt.plot([0, 1], [0, 1], 'k--', lw=2)\n",
    "    plt.xlim([0.0, 1.0])\n",
    "    plt.ylim([0.0, 1.05])\n",
    "    plt.xlabel('False Positive Rate', fontsize = 15)\n",
    "    plt.ylabel('True Positive Rate', fontsize = 15)\n",
    "    plt.legend(loc=\"lower right\", fontsize=15)\n",
    "    plt.xticks(fontsize = 12)\n",
    "    plt.yticks(fontsize = 12)\n",
    "    plt.title(\"Multi-class ROC for Classifying Car Images: One class vs Rest\", fontsize = 18)\n",
    "    plt.show()\n",
    "    \n",
    "    #return fpr, tpr, auc_value\n",
    "plt.rcParams['figure.figsize'] = [10, 10]\n",
    "create_ROC_Curves(y_test, ytest_prob)"
   ]
  },
  {
   "cell_type": "code",
   "execution_count": 41,
   "metadata": {
    "ExecuteTime": {
     "end_time": "2019-10-22T04:54:41.857626Z",
     "start_time": "2019-10-22T04:54:41.827493Z"
    }
   },
   "outputs": [
    {
     "name": "stdout",
     "output_type": "stream",
     "text": [
      "              precision    recall  f1-score   support\n",
      "\n",
      "           1       0.81      0.82      0.82      1031\n",
      "           2       0.76      0.73      0.74      1088\n",
      "           3       0.89      0.90      0.89      1118\n",
      "\n",
      "    accuracy                           0.82      3237\n",
      "   macro avg       0.82      0.82      0.82      3237\n",
      "weighted avg       0.82      0.82      0.82      3237\n",
      "\n"
     ]
    }
   ],
   "source": [
    "print(classification_report(y_test, ytest_labels))"
   ]
  }
 ],
 "metadata": {
  "kernelspec": {
   "display_name": "Python [conda env:metis] *",
   "language": "python",
   "name": "conda-env-metis-py"
  },
  "language_info": {
   "codemirror_mode": {
    "name": "ipython",
    "version": 3
   },
   "file_extension": ".py",
   "mimetype": "text/x-python",
   "name": "python",
   "nbconvert_exporter": "python",
   "pygments_lexer": "ipython3",
   "version": "3.7.3"
  },
  "toc": {
   "base_numbering": 1,
   "nav_menu": {},
   "number_sections": true,
   "sideBar": true,
   "skip_h1_title": false,
   "title_cell": "Table of Contents",
   "title_sidebar": "Contents",
   "toc_cell": false,
   "toc_position": {},
   "toc_section_display": true,
   "toc_window_display": false
  }
 },
 "nbformat": 4,
 "nbformat_minor": 2
}
