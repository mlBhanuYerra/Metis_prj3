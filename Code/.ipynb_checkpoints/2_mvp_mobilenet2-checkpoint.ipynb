{
 "cells": [
  {
   "cell_type": "code",
   "execution_count": 94,
   "metadata": {
    "ExecuteTime": {
     "end_time": "2019-10-22T01:51:39.659391Z",
     "start_time": "2019-10-22T01:51:39.646239Z"
    }
   },
   "outputs": [],
   "source": [
    "import numpy as np\n",
    "import pandas as pd\n",
    "\n",
    "import os, glob, re, scipy.io\n",
    "import seaborn as sns\n",
    "import matplotlib.pyplot as plt\n",
    "\n",
    "from keras.preprocessing import image\n",
    "from keras.models import Model\n",
    "\n",
    "from sklearn.preprocessing import label_binarize\n",
    "\n",
    "from sklearn.model_selection import train_test_split, TimeSeriesSplit\n",
    "from sklearn.linear_model import LogisticRegression\n",
    "from sklearn.metrics import r2_score\n",
    "from sklearn.metrics import mean_absolute_error as mae\n",
    "from sklearn.metrics import mean_squared_error as mse\n",
    "\n",
    "from sklearn.metrics import precision_score, recall_score, precision_recall_curve, f1_score, fbeta_score\n",
    "from sklearn.metrics import roc_auc_score, roc_curve, auc\n",
    "from sklearn.metrics import confusion_matrix, classification_report\n",
    "\n",
    "from sklearn.utils.multiclass import unique_labels\n",
    "\n",
    "from StanfordCars import *\n",
    "\n",
    "%matplotlib inline"
   ]
  },
  {
   "cell_type": "code",
   "execution_count": 15,
   "metadata": {
    "ExecuteTime": {
     "end_time": "2019-10-21T22:22:03.940645Z",
     "start_time": "2019-10-21T22:22:00.388423Z"
    }
   },
   "outputs": [],
   "source": [
    "x_features = pd.read_csv(\"../Data/features/MobileNetV2.csv\")\n",
    "y_features = pd.read_csv(\"../Data/cars_agg_label.csv\")"
   ]
  },
  {
   "cell_type": "code",
   "execution_count": 21,
   "metadata": {
    "ExecuteTime": {
     "end_time": "2019-10-21T22:22:59.545525Z",
     "start_time": "2019-10-21T22:22:59.518874Z"
    }
   },
   "outputs": [
    {
     "data": {
      "text/html": [
       "<div>\n",
       "<style scoped>\n",
       "    .dataframe tbody tr th:only-of-type {\n",
       "        vertical-align: middle;\n",
       "    }\n",
       "\n",
       "    .dataframe tbody tr th {\n",
       "        vertical-align: top;\n",
       "    }\n",
       "\n",
       "    .dataframe thead th {\n",
       "        text-align: right;\n",
       "    }\n",
       "</style>\n",
       "<table border=\"1\" class=\"dataframe\">\n",
       "  <thead>\n",
       "    <tr style=\"text-align: right;\">\n",
       "      <th></th>\n",
       "      <th>Unnamed: 0</th>\n",
       "      <th>0</th>\n",
       "      <th>1</th>\n",
       "      <th>2</th>\n",
       "      <th>3</th>\n",
       "      <th>4</th>\n",
       "      <th>5</th>\n",
       "      <th>6</th>\n",
       "      <th>7</th>\n",
       "      <th>8</th>\n",
       "      <th>...</th>\n",
       "      <th>1271</th>\n",
       "      <th>1272</th>\n",
       "      <th>1273</th>\n",
       "      <th>1274</th>\n",
       "      <th>1275</th>\n",
       "      <th>1276</th>\n",
       "      <th>1277</th>\n",
       "      <th>1278</th>\n",
       "      <th>1279</th>\n",
       "      <th>1280</th>\n",
       "    </tr>\n",
       "  </thead>\n",
       "  <tbody>\n",
       "    <tr>\n",
       "      <td>0</td>\n",
       "      <td>0</td>\n",
       "      <td>1.0</td>\n",
       "      <td>0.624495</td>\n",
       "      <td>0.033813</td>\n",
       "      <td>0.908862</td>\n",
       "      <td>0.072910</td>\n",
       "      <td>0.004346</td>\n",
       "      <td>0.000000</td>\n",
       "      <td>1.228820</td>\n",
       "      <td>0.818473</td>\n",
       "      <td>...</td>\n",
       "      <td>0.201633</td>\n",
       "      <td>0.134262</td>\n",
       "      <td>0.000000</td>\n",
       "      <td>0.350688</td>\n",
       "      <td>0.000000</td>\n",
       "      <td>2.198918</td>\n",
       "      <td>0.248370</td>\n",
       "      <td>2.500723</td>\n",
       "      <td>1.304098</td>\n",
       "      <td>0.031497</td>\n",
       "    </tr>\n",
       "    <tr>\n",
       "      <td>1</td>\n",
       "      <td>1</td>\n",
       "      <td>2.0</td>\n",
       "      <td>0.000000</td>\n",
       "      <td>0.437930</td>\n",
       "      <td>0.000000</td>\n",
       "      <td>0.032143</td>\n",
       "      <td>0.000000</td>\n",
       "      <td>0.267990</td>\n",
       "      <td>0.064275</td>\n",
       "      <td>0.819570</td>\n",
       "      <td>...</td>\n",
       "      <td>2.181230</td>\n",
       "      <td>0.000000</td>\n",
       "      <td>0.188090</td>\n",
       "      <td>0.962528</td>\n",
       "      <td>0.810423</td>\n",
       "      <td>0.141051</td>\n",
       "      <td>0.000000</td>\n",
       "      <td>0.269119</td>\n",
       "      <td>0.667619</td>\n",
       "      <td>0.307729</td>\n",
       "    </tr>\n",
       "    <tr>\n",
       "      <td>2</td>\n",
       "      <td>2</td>\n",
       "      <td>3.0</td>\n",
       "      <td>0.585322</td>\n",
       "      <td>0.001067</td>\n",
       "      <td>0.024649</td>\n",
       "      <td>0.016769</td>\n",
       "      <td>0.174261</td>\n",
       "      <td>0.411321</td>\n",
       "      <td>0.262137</td>\n",
       "      <td>0.000000</td>\n",
       "      <td>...</td>\n",
       "      <td>0.463402</td>\n",
       "      <td>0.870228</td>\n",
       "      <td>0.000000</td>\n",
       "      <td>0.094198</td>\n",
       "      <td>0.195522</td>\n",
       "      <td>0.000000</td>\n",
       "      <td>0.043474</td>\n",
       "      <td>0.046253</td>\n",
       "      <td>0.000000</td>\n",
       "      <td>0.025333</td>\n",
       "    </tr>\n",
       "    <tr>\n",
       "      <td>3</td>\n",
       "      <td>3</td>\n",
       "      <td>4.0</td>\n",
       "      <td>0.027754</td>\n",
       "      <td>0.050779</td>\n",
       "      <td>0.164661</td>\n",
       "      <td>0.000325</td>\n",
       "      <td>0.000000</td>\n",
       "      <td>0.042481</td>\n",
       "      <td>0.003805</td>\n",
       "      <td>0.037874</td>\n",
       "      <td>...</td>\n",
       "      <td>0.328400</td>\n",
       "      <td>0.757737</td>\n",
       "      <td>0.000000</td>\n",
       "      <td>0.657076</td>\n",
       "      <td>0.022667</td>\n",
       "      <td>0.000000</td>\n",
       "      <td>0.000000</td>\n",
       "      <td>0.000000</td>\n",
       "      <td>0.000000</td>\n",
       "      <td>0.000000</td>\n",
       "    </tr>\n",
       "    <tr>\n",
       "      <td>4</td>\n",
       "      <td>4</td>\n",
       "      <td>5.0</td>\n",
       "      <td>1.143764</td>\n",
       "      <td>0.060055</td>\n",
       "      <td>0.003831</td>\n",
       "      <td>0.000000</td>\n",
       "      <td>0.075050</td>\n",
       "      <td>0.473232</td>\n",
       "      <td>0.380867</td>\n",
       "      <td>1.108273</td>\n",
       "      <td>...</td>\n",
       "      <td>1.719604</td>\n",
       "      <td>1.339719</td>\n",
       "      <td>0.112092</td>\n",
       "      <td>0.576496</td>\n",
       "      <td>0.000000</td>\n",
       "      <td>0.000000</td>\n",
       "      <td>0.000000</td>\n",
       "      <td>0.229518</td>\n",
       "      <td>0.008216</td>\n",
       "      <td>0.735241</td>\n",
       "    </tr>\n",
       "    <tr>\n",
       "      <td>...</td>\n",
       "      <td>...</td>\n",
       "      <td>...</td>\n",
       "      <td>...</td>\n",
       "      <td>...</td>\n",
       "      <td>...</td>\n",
       "      <td>...</td>\n",
       "      <td>...</td>\n",
       "      <td>...</td>\n",
       "      <td>...</td>\n",
       "      <td>...</td>\n",
       "      <td>...</td>\n",
       "      <td>...</td>\n",
       "      <td>...</td>\n",
       "      <td>...</td>\n",
       "      <td>...</td>\n",
       "      <td>...</td>\n",
       "      <td>...</td>\n",
       "      <td>...</td>\n",
       "      <td>...</td>\n",
       "      <td>...</td>\n",
       "      <td>...</td>\n",
       "    </tr>\n",
       "    <tr>\n",
       "      <td>16180</td>\n",
       "      <td>16180</td>\n",
       "      <td>16181.0</td>\n",
       "      <td>0.612718</td>\n",
       "      <td>0.140077</td>\n",
       "      <td>0.000000</td>\n",
       "      <td>0.000000</td>\n",
       "      <td>0.448265</td>\n",
       "      <td>1.792741</td>\n",
       "      <td>0.000000</td>\n",
       "      <td>0.000000</td>\n",
       "      <td>...</td>\n",
       "      <td>0.006563</td>\n",
       "      <td>0.000000</td>\n",
       "      <td>0.000000</td>\n",
       "      <td>0.649398</td>\n",
       "      <td>0.000000</td>\n",
       "      <td>0.000000</td>\n",
       "      <td>0.046293</td>\n",
       "      <td>0.194650</td>\n",
       "      <td>1.194046</td>\n",
       "      <td>0.037506</td>\n",
       "    </tr>\n",
       "    <tr>\n",
       "      <td>16181</td>\n",
       "      <td>16181</td>\n",
       "      <td>16182.0</td>\n",
       "      <td>0.877511</td>\n",
       "      <td>0.422268</td>\n",
       "      <td>0.016902</td>\n",
       "      <td>0.000000</td>\n",
       "      <td>0.039809</td>\n",
       "      <td>0.779360</td>\n",
       "      <td>0.007548</td>\n",
       "      <td>0.000000</td>\n",
       "      <td>...</td>\n",
       "      <td>0.068560</td>\n",
       "      <td>0.167950</td>\n",
       "      <td>0.000000</td>\n",
       "      <td>0.000000</td>\n",
       "      <td>0.000000</td>\n",
       "      <td>0.024853</td>\n",
       "      <td>0.049239</td>\n",
       "      <td>0.375023</td>\n",
       "      <td>0.274020</td>\n",
       "      <td>0.013824</td>\n",
       "    </tr>\n",
       "    <tr>\n",
       "      <td>16182</td>\n",
       "      <td>16182</td>\n",
       "      <td>16183.0</td>\n",
       "      <td>0.448333</td>\n",
       "      <td>1.070562</td>\n",
       "      <td>0.150521</td>\n",
       "      <td>0.000000</td>\n",
       "      <td>0.000000</td>\n",
       "      <td>0.017197</td>\n",
       "      <td>0.000000</td>\n",
       "      <td>0.110758</td>\n",
       "      <td>...</td>\n",
       "      <td>0.060986</td>\n",
       "      <td>0.000000</td>\n",
       "      <td>0.000000</td>\n",
       "      <td>0.313205</td>\n",
       "      <td>0.094281</td>\n",
       "      <td>0.218245</td>\n",
       "      <td>0.028336</td>\n",
       "      <td>0.315229</td>\n",
       "      <td>2.260771</td>\n",
       "      <td>0.000000</td>\n",
       "    </tr>\n",
       "    <tr>\n",
       "      <td>16183</td>\n",
       "      <td>16183</td>\n",
       "      <td>16184.0</td>\n",
       "      <td>0.030525</td>\n",
       "      <td>2.035002</td>\n",
       "      <td>0.196992</td>\n",
       "      <td>0.023985</td>\n",
       "      <td>0.076134</td>\n",
       "      <td>0.157399</td>\n",
       "      <td>0.000000</td>\n",
       "      <td>0.212373</td>\n",
       "      <td>...</td>\n",
       "      <td>1.538965</td>\n",
       "      <td>0.000000</td>\n",
       "      <td>0.000000</td>\n",
       "      <td>0.943409</td>\n",
       "      <td>0.772161</td>\n",
       "      <td>0.071015</td>\n",
       "      <td>0.350485</td>\n",
       "      <td>0.000000</td>\n",
       "      <td>0.226857</td>\n",
       "      <td>0.000000</td>\n",
       "    </tr>\n",
       "    <tr>\n",
       "      <td>16184</td>\n",
       "      <td>16184</td>\n",
       "      <td>16185.0</td>\n",
       "      <td>0.009035</td>\n",
       "      <td>0.690584</td>\n",
       "      <td>0.015600</td>\n",
       "      <td>0.106924</td>\n",
       "      <td>0.014208</td>\n",
       "      <td>0.112271</td>\n",
       "      <td>0.000000</td>\n",
       "      <td>0.026338</td>\n",
       "      <td>...</td>\n",
       "      <td>0.637722</td>\n",
       "      <td>0.000000</td>\n",
       "      <td>0.000000</td>\n",
       "      <td>0.003587</td>\n",
       "      <td>0.100490</td>\n",
       "      <td>0.000000</td>\n",
       "      <td>0.012868</td>\n",
       "      <td>0.819986</td>\n",
       "      <td>0.362551</td>\n",
       "      <td>0.000000</td>\n",
       "    </tr>\n",
       "  </tbody>\n",
       "</table>\n",
       "<p>16185 rows × 1282 columns</p>\n",
       "</div>"
      ],
      "text/plain": [
       "       Unnamed: 0        0         1         2         3         4         5  \\\n",
       "0               0      1.0  0.624495  0.033813  0.908862  0.072910  0.004346   \n",
       "1               1      2.0  0.000000  0.437930  0.000000  0.032143  0.000000   \n",
       "2               2      3.0  0.585322  0.001067  0.024649  0.016769  0.174261   \n",
       "3               3      4.0  0.027754  0.050779  0.164661  0.000325  0.000000   \n",
       "4               4      5.0  1.143764  0.060055  0.003831  0.000000  0.075050   \n",
       "...           ...      ...       ...       ...       ...       ...       ...   \n",
       "16180       16180  16181.0  0.612718  0.140077  0.000000  0.000000  0.448265   \n",
       "16181       16181  16182.0  0.877511  0.422268  0.016902  0.000000  0.039809   \n",
       "16182       16182  16183.0  0.448333  1.070562  0.150521  0.000000  0.000000   \n",
       "16183       16183  16184.0  0.030525  2.035002  0.196992  0.023985  0.076134   \n",
       "16184       16184  16185.0  0.009035  0.690584  0.015600  0.106924  0.014208   \n",
       "\n",
       "              6         7         8  ...      1271      1272      1273  \\\n",
       "0      0.000000  1.228820  0.818473  ...  0.201633  0.134262  0.000000   \n",
       "1      0.267990  0.064275  0.819570  ...  2.181230  0.000000  0.188090   \n",
       "2      0.411321  0.262137  0.000000  ...  0.463402  0.870228  0.000000   \n",
       "3      0.042481  0.003805  0.037874  ...  0.328400  0.757737  0.000000   \n",
       "4      0.473232  0.380867  1.108273  ...  1.719604  1.339719  0.112092   \n",
       "...         ...       ...       ...  ...       ...       ...       ...   \n",
       "16180  1.792741  0.000000  0.000000  ...  0.006563  0.000000  0.000000   \n",
       "16181  0.779360  0.007548  0.000000  ...  0.068560  0.167950  0.000000   \n",
       "16182  0.017197  0.000000  0.110758  ...  0.060986  0.000000  0.000000   \n",
       "16183  0.157399  0.000000  0.212373  ...  1.538965  0.000000  0.000000   \n",
       "16184  0.112271  0.000000  0.026338  ...  0.637722  0.000000  0.000000   \n",
       "\n",
       "           1274      1275      1276      1277      1278      1279      1280  \n",
       "0      0.350688  0.000000  2.198918  0.248370  2.500723  1.304098  0.031497  \n",
       "1      0.962528  0.810423  0.141051  0.000000  0.269119  0.667619  0.307729  \n",
       "2      0.094198  0.195522  0.000000  0.043474  0.046253  0.000000  0.025333  \n",
       "3      0.657076  0.022667  0.000000  0.000000  0.000000  0.000000  0.000000  \n",
       "4      0.576496  0.000000  0.000000  0.000000  0.229518  0.008216  0.735241  \n",
       "...         ...       ...       ...       ...       ...       ...       ...  \n",
       "16180  0.649398  0.000000  0.000000  0.046293  0.194650  1.194046  0.037506  \n",
       "16181  0.000000  0.000000  0.024853  0.049239  0.375023  0.274020  0.013824  \n",
       "16182  0.313205  0.094281  0.218245  0.028336  0.315229  2.260771  0.000000  \n",
       "16183  0.943409  0.772161  0.071015  0.350485  0.000000  0.226857  0.000000  \n",
       "16184  0.003587  0.100490  0.000000  0.012868  0.819986  0.362551  0.000000  \n",
       "\n",
       "[16185 rows x 1282 columns]"
      ]
     },
     "execution_count": 21,
     "metadata": {},
     "output_type": "execute_result"
    }
   ],
   "source": [
    "x_features"
   ]
  },
  {
   "cell_type": "code",
   "execution_count": 22,
   "metadata": {
    "ExecuteTime": {
     "end_time": "2019-10-21T22:23:03.565425Z",
     "start_time": "2019-10-21T22:23:03.544940Z"
    }
   },
   "outputs": [
    {
     "data": {
      "text/html": [
       "<div>\n",
       "<style scoped>\n",
       "    .dataframe tbody tr th:only-of-type {\n",
       "        vertical-align: middle;\n",
       "    }\n",
       "\n",
       "    .dataframe tbody tr th {\n",
       "        vertical-align: top;\n",
       "    }\n",
       "\n",
       "    .dataframe thead th {\n",
       "        text-align: right;\n",
       "    }\n",
       "</style>\n",
       "<table border=\"1\" class=\"dataframe\">\n",
       "  <thead>\n",
       "    <tr style=\"text-align: right;\">\n",
       "      <th></th>\n",
       "      <th>Unnamed: 0</th>\n",
       "      <th>fileNumber</th>\n",
       "      <th>xmin</th>\n",
       "      <th>ymin</th>\n",
       "      <th>xmax</th>\n",
       "      <th>ymax</th>\n",
       "      <th>class_no</th>\n",
       "      <th>class_label</th>\n",
       "      <th>train_test</th>\n",
       "      <th>subclass</th>\n",
       "      <th>Label1</th>\n",
       "      <th>Label1_No</th>\n",
       "      <th>Label2</th>\n",
       "      <th>Label2_No</th>\n",
       "    </tr>\n",
       "  </thead>\n",
       "  <tbody>\n",
       "    <tr>\n",
       "      <td>0</td>\n",
       "      <td>0</td>\n",
       "      <td>1</td>\n",
       "      <td>112</td>\n",
       "      <td>7</td>\n",
       "      <td>853</td>\n",
       "      <td>717</td>\n",
       "      <td>1</td>\n",
       "      <td>AM General Hummer SUV 2000</td>\n",
       "      <td>0</td>\n",
       "      <td>u</td>\n",
       "      <td>SUVs/Trucks/Vans</td>\n",
       "      <td>3</td>\n",
       "      <td>SUV</td>\n",
       "      <td>3</td>\n",
       "    </tr>\n",
       "    <tr>\n",
       "      <td>1</td>\n",
       "      <td>1</td>\n",
       "      <td>2</td>\n",
       "      <td>48</td>\n",
       "      <td>24</td>\n",
       "      <td>441</td>\n",
       "      <td>202</td>\n",
       "      <td>1</td>\n",
       "      <td>AM General Hummer SUV 2000</td>\n",
       "      <td>0</td>\n",
       "      <td>u</td>\n",
       "      <td>SUVs/Trucks/Vans</td>\n",
       "      <td>3</td>\n",
       "      <td>SUV</td>\n",
       "      <td>3</td>\n",
       "    </tr>\n",
       "    <tr>\n",
       "      <td>2</td>\n",
       "      <td>2</td>\n",
       "      <td>3</td>\n",
       "      <td>7</td>\n",
       "      <td>4</td>\n",
       "      <td>277</td>\n",
       "      <td>180</td>\n",
       "      <td>1</td>\n",
       "      <td>AM General Hummer SUV 2000</td>\n",
       "      <td>0</td>\n",
       "      <td>u</td>\n",
       "      <td>SUVs/Trucks/Vans</td>\n",
       "      <td>3</td>\n",
       "      <td>SUV</td>\n",
       "      <td>3</td>\n",
       "    </tr>\n",
       "    <tr>\n",
       "      <td>3</td>\n",
       "      <td>3</td>\n",
       "      <td>4</td>\n",
       "      <td>33</td>\n",
       "      <td>50</td>\n",
       "      <td>197</td>\n",
       "      <td>150</td>\n",
       "      <td>1</td>\n",
       "      <td>AM General Hummer SUV 2000</td>\n",
       "      <td>0</td>\n",
       "      <td>u</td>\n",
       "      <td>SUVs/Trucks/Vans</td>\n",
       "      <td>3</td>\n",
       "      <td>SUV</td>\n",
       "      <td>3</td>\n",
       "    </tr>\n",
       "    <tr>\n",
       "      <td>4</td>\n",
       "      <td>4</td>\n",
       "      <td>5</td>\n",
       "      <td>5</td>\n",
       "      <td>8</td>\n",
       "      <td>83</td>\n",
       "      <td>58</td>\n",
       "      <td>1</td>\n",
       "      <td>AM General Hummer SUV 2000</td>\n",
       "      <td>0</td>\n",
       "      <td>u</td>\n",
       "      <td>SUVs/Trucks/Vans</td>\n",
       "      <td>3</td>\n",
       "      <td>SUV</td>\n",
       "      <td>3</td>\n",
       "    </tr>\n",
       "    <tr>\n",
       "      <td>...</td>\n",
       "      <td>...</td>\n",
       "      <td>...</td>\n",
       "      <td>...</td>\n",
       "      <td>...</td>\n",
       "      <td>...</td>\n",
       "      <td>...</td>\n",
       "      <td>...</td>\n",
       "      <td>...</td>\n",
       "      <td>...</td>\n",
       "      <td>...</td>\n",
       "      <td>...</td>\n",
       "      <td>...</td>\n",
       "      <td>...</td>\n",
       "      <td>...</td>\n",
       "    </tr>\n",
       "    <tr>\n",
       "      <td>16180</td>\n",
       "      <td>16180</td>\n",
       "      <td>16181</td>\n",
       "      <td>38</td>\n",
       "      <td>36</td>\n",
       "      <td>375</td>\n",
       "      <td>234</td>\n",
       "      <td>196</td>\n",
       "      <td>smart fortwo Convertible 2012</td>\n",
       "      <td>1</td>\n",
       "      <td>c</td>\n",
       "      <td>Coupe/Convrtbl</td>\n",
       "      <td>1</td>\n",
       "      <td>Coupe/Convrtbl</td>\n",
       "      <td>1</td>\n",
       "    </tr>\n",
       "    <tr>\n",
       "      <td>16181</td>\n",
       "      <td>16181</td>\n",
       "      <td>16182</td>\n",
       "      <td>29</td>\n",
       "      <td>34</td>\n",
       "      <td>235</td>\n",
       "      <td>164</td>\n",
       "      <td>196</td>\n",
       "      <td>smart fortwo Convertible 2012</td>\n",
       "      <td>1</td>\n",
       "      <td>c</td>\n",
       "      <td>Coupe/Convrtbl</td>\n",
       "      <td>1</td>\n",
       "      <td>Coupe/Convrtbl</td>\n",
       "      <td>1</td>\n",
       "    </tr>\n",
       "    <tr>\n",
       "      <td>16182</td>\n",
       "      <td>16182</td>\n",
       "      <td>16183</td>\n",
       "      <td>25</td>\n",
       "      <td>32</td>\n",
       "      <td>587</td>\n",
       "      <td>359</td>\n",
       "      <td>196</td>\n",
       "      <td>smart fortwo Convertible 2012</td>\n",
       "      <td>1</td>\n",
       "      <td>c</td>\n",
       "      <td>Coupe/Convrtbl</td>\n",
       "      <td>1</td>\n",
       "      <td>Coupe/Convrtbl</td>\n",
       "      <td>1</td>\n",
       "    </tr>\n",
       "    <tr>\n",
       "      <td>16183</td>\n",
       "      <td>16183</td>\n",
       "      <td>16184</td>\n",
       "      <td>56</td>\n",
       "      <td>60</td>\n",
       "      <td>208</td>\n",
       "      <td>186</td>\n",
       "      <td>196</td>\n",
       "      <td>smart fortwo Convertible 2012</td>\n",
       "      <td>1</td>\n",
       "      <td>c</td>\n",
       "      <td>Coupe/Convrtbl</td>\n",
       "      <td>1</td>\n",
       "      <td>Coupe/Convrtbl</td>\n",
       "      <td>1</td>\n",
       "    </tr>\n",
       "    <tr>\n",
       "      <td>16184</td>\n",
       "      <td>16184</td>\n",
       "      <td>16185</td>\n",
       "      <td>1</td>\n",
       "      <td>1</td>\n",
       "      <td>200</td>\n",
       "      <td>131</td>\n",
       "      <td>196</td>\n",
       "      <td>smart fortwo Convertible 2012</td>\n",
       "      <td>1</td>\n",
       "      <td>c</td>\n",
       "      <td>Coupe/Convrtbl</td>\n",
       "      <td>1</td>\n",
       "      <td>Coupe/Convrtbl</td>\n",
       "      <td>1</td>\n",
       "    </tr>\n",
       "  </tbody>\n",
       "</table>\n",
       "<p>16185 rows × 14 columns</p>\n",
       "</div>"
      ],
      "text/plain": [
       "       Unnamed: 0  fileNumber  xmin  ymin  xmax  ymax  class_no  \\\n",
       "0               0           1   112     7   853   717         1   \n",
       "1               1           2    48    24   441   202         1   \n",
       "2               2           3     7     4   277   180         1   \n",
       "3               3           4    33    50   197   150         1   \n",
       "4               4           5     5     8    83    58         1   \n",
       "...           ...         ...   ...   ...   ...   ...       ...   \n",
       "16180       16180       16181    38    36   375   234       196   \n",
       "16181       16181       16182    29    34   235   164       196   \n",
       "16182       16182       16183    25    32   587   359       196   \n",
       "16183       16183       16184    56    60   208   186       196   \n",
       "16184       16184       16185     1     1   200   131       196   \n",
       "\n",
       "                         class_label  train_test subclass            Label1  \\\n",
       "0         AM General Hummer SUV 2000           0        u  SUVs/Trucks/Vans   \n",
       "1         AM General Hummer SUV 2000           0        u  SUVs/Trucks/Vans   \n",
       "2         AM General Hummer SUV 2000           0        u  SUVs/Trucks/Vans   \n",
       "3         AM General Hummer SUV 2000           0        u  SUVs/Trucks/Vans   \n",
       "4         AM General Hummer SUV 2000           0        u  SUVs/Trucks/Vans   \n",
       "...                              ...         ...      ...               ...   \n",
       "16180  smart fortwo Convertible 2012           1        c    Coupe/Convrtbl   \n",
       "16181  smart fortwo Convertible 2012           1        c    Coupe/Convrtbl   \n",
       "16182  smart fortwo Convertible 2012           1        c    Coupe/Convrtbl   \n",
       "16183  smart fortwo Convertible 2012           1        c    Coupe/Convrtbl   \n",
       "16184  smart fortwo Convertible 2012           1        c    Coupe/Convrtbl   \n",
       "\n",
       "       Label1_No          Label2  Label2_No  \n",
       "0              3             SUV          3  \n",
       "1              3             SUV          3  \n",
       "2              3             SUV          3  \n",
       "3              3             SUV          3  \n",
       "4              3             SUV          3  \n",
       "...          ...             ...        ...  \n",
       "16180          1  Coupe/Convrtbl          1  \n",
       "16181          1  Coupe/Convrtbl          1  \n",
       "16182          1  Coupe/Convrtbl          1  \n",
       "16183          1  Coupe/Convrtbl          1  \n",
       "16184          1  Coupe/Convrtbl          1  \n",
       "\n",
       "[16185 rows x 14 columns]"
      ]
     },
     "execution_count": 22,
     "metadata": {},
     "output_type": "execute_result"
    }
   ],
   "source": [
    "y_features"
   ]
  },
  {
   "cell_type": "code",
   "execution_count": 23,
   "metadata": {
    "ExecuteTime": {
     "end_time": "2019-10-21T22:24:55.571471Z",
     "start_time": "2019-10-21T22:24:55.225390Z"
    }
   },
   "outputs": [],
   "source": [
    "X_train, X_test, y_train, y_test = train_test_split(\n",
    "    x_features.iloc[:,2:], y_features[\"Label1_No\"], test_size=0.20, random_state=333)"
   ]
  },
  {
   "cell_type": "code",
   "execution_count": 24,
   "metadata": {
    "ExecuteTime": {
     "end_time": "2019-10-21T22:26:08.934290Z",
     "start_time": "2019-10-21T22:25:24.282207Z"
    }
   },
   "outputs": [
    {
     "name": "stderr",
     "output_type": "stream",
     "text": [
      "//anaconda3/envs/metis/lib/python3.7/site-packages/sklearn/linear_model/logistic.py:432: FutureWarning: Default solver will be changed to 'lbfgs' in 0.22. Specify a solver to silence this warning.\n",
      "  FutureWarning)\n",
      "//anaconda3/envs/metis/lib/python3.7/site-packages/sklearn/linear_model/logistic.py:469: FutureWarning: Default multi_class will be changed to 'auto' in 0.22. Specify the multi_class option to silence this warning.\n",
      "  \"this warning.\", FutureWarning)\n"
     ]
    },
    {
     "name": "stdout",
     "output_type": "stream",
     "text": [
      "[LibLinear]"
     ]
    },
    {
     "data": {
      "text/plain": [
       "LogisticRegression(C=100000, class_weight=None, dual=False, fit_intercept=True,\n",
       "                   intercept_scaling=1, l1_ratio=None, max_iter=100,\n",
       "                   multi_class='warn', n_jobs=None, penalty='l2',\n",
       "                   random_state=None, solver='warn', tol=0.0001, verbose=True,\n",
       "                   warm_start=False)"
      ]
     },
     "execution_count": 24,
     "metadata": {},
     "output_type": "execute_result"
    }
   ],
   "source": [
    "logreg = LogisticRegression(C=100000, verbose=True) # C: Inverse of regularization strength; \n",
    "logreg.fit(X_train,y_train)"
   ]
  },
  {
   "cell_type": "code",
   "execution_count": 137,
   "metadata": {
    "ExecuteTime": {
     "end_time": "2019-10-22T13:03:10.304783Z",
     "start_time": "2019-10-22T13:03:10.274053Z"
    }
   },
   "outputs": [
    {
     "data": {
      "text/plain": [
       "['../Models/MobileNetV2/LogReg1_Model1.joblib']"
      ]
     },
     "execution_count": 137,
     "metadata": {},
     "output_type": "execute_result"
    }
   ],
   "source": [
    "from joblib import dump, load\n",
    "dump(logreg, \"../Models/MobileNetV2/LogReg1_Model1.joblib\")"
   ]
  },
  {
   "cell_type": "code",
   "execution_count": 59,
   "metadata": {
    "ExecuteTime": {
     "end_time": "2019-10-22T00:37:48.476978Z",
     "start_time": "2019-10-22T00:37:48.403664Z"
    }
   },
   "outputs": [
    {
     "name": "stdout",
     "output_type": "stream",
     "text": [
      "Train Score for the Logit Model: 0.885\n",
      "Test Score for the Logit Model: 0.794\n"
     ]
    }
   ],
   "source": [
    "ytest_labels = logreg.predict(X_test)\n",
    "ytest_prob = logreg.predict_proba(X_test)\n",
    "train_score = logreg.score(X_train, y_train)\n",
    "test_score = logreg.score(X_test, y_test)\n",
    "print(\"Train Score for the Logit Model: {:.3f}\".format(train_score))\n",
    "print(\"Test Score for the Logit Model: {:.3f}\".format(test_score))"
   ]
  },
  {
   "cell_type": "code",
   "execution_count": 62,
   "metadata": {
    "ExecuteTime": {
     "end_time": "2019-10-22T00:44:13.909455Z",
     "start_time": "2019-10-22T00:44:13.902091Z"
    }
   },
   "outputs": [
    {
     "data": {
      "text/plain": [
       "0.7922515324117011"
      ]
     },
     "execution_count": 62,
     "metadata": {},
     "output_type": "execute_result"
    }
   ],
   "source": [
    "f1_score(y_test, ytest_labels, average=\"macro\")"
   ]
  },
  {
   "cell_type": "code",
   "execution_count": 29,
   "metadata": {
    "ExecuteTime": {
     "end_time": "2019-10-21T22:47:00.603865Z",
     "start_time": "2019-10-21T22:47:00.594984Z"
    }
   },
   "outputs": [
    {
     "name": "stdout",
     "output_type": "stream",
     "text": [
      "Confusion matrix: \n",
      "\n",
      " [[833 179  19]\n",
      " [194 757 137]\n",
      " [ 30 109 979]]\n"
     ]
    }
   ],
   "source": [
    "labels = [\"Coupe/Convrtbl\", \"Sedan\", \"SUVs/Trucks/Vans\"]\n",
    "print(\"Confusion matrix: \\n\\n\", confusion_matrix(y_test, ytest_labels))"
   ]
  },
  {
   "cell_type": "code",
   "execution_count": 31,
   "metadata": {
    "ExecuteTime": {
     "end_time": "2019-10-21T22:49:23.929348Z",
     "start_time": "2019-10-21T22:49:23.752401Z"
    }
   },
   "outputs": [
    {
     "data": {
      "image/png": "[encoded data removed]",
      "text/plain": [
       "<Figure size 900x600 with 2 Axes>"
      ]
     },
     "metadata": {
      "needs_background": "light"
     },
     "output_type": "display_data"
    }
   ],
   "source": [
    "Mobile_confusion = confusion_matrix(y_test, ytest_labels)\n",
    "plt.figure(dpi=150)\n",
    "sns.heatmap(Mobile_confusion, cmap=plt.cm.Blues, annot=False, square=True,\n",
    "           xticklabels=labels,\n",
    "           yticklabels=labels)\n",
    "\n",
    "plt.xlabel('Predicted Car Class')\n",
    "plt.ylabel('Actual Car Class')\n",
    "plt.title('Car Classes Confusion Matrix: MobileNetV2 w. Logit');"
   ]
  },
  {
   "cell_type": "code",
   "execution_count": 41,
   "metadata": {
    "ExecuteTime": {
     "end_time": "2019-10-21T23:02:08.908979Z",
     "start_time": "2019-10-21T23:02:08.897960Z"
    }
   },
   "outputs": [],
   "source": [
    "def plot_confusion_matrix(y_true, y_pred, classes,\n",
    "                          normalize=False,\n",
    "                          title=None,\n",
    "                          cmap=plt.cm.Blues):\n",
    "    \"\"\"\n",
    "    This function prints and plots the confusion matrix.\n",
    "    Normalization can be applied by setting `normalize=True`.\n",
    "    \"\"\"\n",
    "    if not title:\n",
    "        if normalize:\n",
    "            title = 'Normalized confusion matrix'\n",
    "        else:\n",
    "            title = 'Confusion matrix, without normalization'\n",
    "\n",
    "    # Compute confusion matrix\n",
    "    cm = confusion_matrix(y_true, y_pred)\n",
    "    # Only use the labels that appear in the data\n",
    "    #classes = classes[unique_labels(y_true, y_pred)]\n",
    "    if normalize:\n",
    "        cm = cm.astype('float') / cm.sum(axis=1)[:, np.newaxis]\n",
    "        print(\"Normalized confusion matrix\")\n",
    "    else:\n",
    "        print('Confusion matrix, without normalization')\n",
    "\n",
    "    print(cm)\n",
    "\n",
    "    fig, ax = plt.subplots()\n",
    "    im = ax.imshow(cm, interpolation='nearest', cmap=cmap)\n",
    "    ax.figure.colorbar(im, ax=ax)\n",
    "    # We want to show all ticks...\n",
    "    ax.set(xticks=np.arange(cm.shape[1]),\n",
    "           yticks=np.arange(cm.shape[0]),\n",
    "           # ... and label them with the respective list entries\n",
    "           xticklabels=classes, yticklabels=classes,\n",
    "           title=title,\n",
    "           ylabel='True label',\n",
    "           xlabel='Predicted label')\n",
    "\n",
    "    # Rotate the tick labels and set their alignment.\n",
    "    plt.setp(ax.get_xticklabels(), rotation=45, ha=\"right\",\n",
    "             rotation_mode=\"anchor\")\n",
    "\n",
    "    # Loop over data dimensions and create text annotations.\n",
    "    fmt = '.2f' if normalize else 'd'\n",
    "    thresh = cm.max() / 2.\n",
    "    for i in range(cm.shape[0]):\n",
    "        for j in range(cm.shape[1]):\n",
    "            ax.text(j, i, format(cm[i, j], fmt),\n",
    "                    ha=\"center\", va=\"center\",\n",
    "                    color=\"white\" if cm[i, j] > thresh else \"black\")\n",
    "    fig.tight_layout()\n",
    "    return ax"
   ]
  },
  {
   "cell_type": "code",
   "execution_count": 40,
   "metadata": {
    "ExecuteTime": {
     "end_time": "2019-10-21T23:02:03.378079Z",
     "start_time": "2019-10-21T23:02:03.197943Z"
    }
   },
   "outputs": [
    {
     "name": "stdout",
     "output_type": "stream",
     "text": [
      "Confusion matrix, without normalization\n",
      "[[833 179  19]\n",
      " [194 757 137]\n",
      " [ 30 109 979]]\n"
     ]
    },
    {
     "data": {
      "text/plain": [
       "<matplotlib.axes._subplots.AxesSubplot at 0x1373e95f8>"
      ]
     },
     "execution_count": 40,
     "metadata": {},
     "output_type": "execute_result"
    },
    {
     "data": {
      "image/png": "[encoded data removed]",
      "text/plain": [
       "<Figure size 432x288 with 2 Axes>"
      ]
     },
     "metadata": {
      "needs_background": "light"
     },
     "output_type": "display_data"
    }
   ],
   "source": [
    "plot_confusion_matrix(y_test, ytest_labels, labels)"
   ]
  },
  {
   "cell_type": "code",
   "execution_count": 131,
   "metadata": {
    "ExecuteTime": {
     "end_time": "2019-10-22T05:06:18.060581Z",
     "start_time": "2019-10-22T05:06:17.864518Z"
    }
   },
   "outputs": [
    {
     "data": {
      "image/png": "[encoded data removed]",
      "text/plain": [
       "<Figure size 720x720 with 1 Axes>"
      ]
     },
     "metadata": {
      "needs_background": "light"
     },
     "output_type": "display_data"
    }
   ],
   "source": [
    "# --- ROC Curves\n",
    "\n",
    "def create_ROC_Curves(y, ypred, classes=[1,2,3]):\n",
    "    fpr = dict()\n",
    "    tpr = dict()\n",
    "    auc_value = dict()\n",
    "    \n",
    "    # --- Binarize the true and preds\n",
    "    y_true_bin = label_binarize(y, classes)\n",
    "    #y_pred_bin = label_binarize(ypred, classes)\n",
    "    #print(y_true_bin.shape)\n",
    "    \n",
    "    labels = {\n",
    "        1: \"ROC Curve for Convertibles\",\n",
    "        2: \"ROC Curve for Sedans\",\n",
    "        3: \"ROC Curve for SUVs/Trucks/Vans\"\n",
    "    }\n",
    "    \n",
    "    # --- Get FPR, TPR & AUC for each class\n",
    "    for i in range(len(classes)):\n",
    "        fpr[i], tpr[i], _ = roc_curve(y_true_bin[:,i], ypred[:,i])\n",
    "        #print(len(fpr[i]))\n",
    "        auc_value[i] = auc(fpr[i], tpr[i])\n",
    "        plt.plot(fpr[i], tpr[i], label=labels[i+1]+\" (area = {:.2f})\".format(auc_value[i]),\n",
    "                 linestyle = \":\", lw=3)\n",
    "    \n",
    "    plt.plot([0, 1], [0, 1], 'k--', lw=2)\n",
    "    plt.xlim([0.0, 1.0])\n",
    "    plt.ylim([0.0, 1.05])\n",
    "    plt.xlabel('False Positive Rate', fontsize = 15)\n",
    "    plt.ylabel('True Positive Rate', fontsize = 15)\n",
    "    plt.legend(loc=\"lower right\", fontsize=15)\n",
    "    plt.xticks(fontsize = 12)\n",
    "    plt.yticks(fontsize = 12)\n",
    "    plt.title(\"Multi-class ROC for Classifying Car Images: One class vs Rest\", fontsize = 18)\n",
    "    plt.show()\n",
    "    \n",
    "    #return fpr, tpr, auc_value\n",
    "plt.rcParams['figure.figsize'] = [10, 10]\n",
    "create_ROC_Curves(y_test, ytest_prob)"
   ]
  },
  {
   "cell_type": "code",
   "execution_count": 120,
   "metadata": {
    "ExecuteTime": {
     "end_time": "2019-10-22T04:53:56.077560Z",
     "start_time": "2019-10-22T04:53:56.063507Z"
    }
   },
   "outputs": [
    {
     "name": "stdout",
     "output_type": "stream",
     "text": [
      "              precision    recall  f1-score   support\n",
      "\n",
      "           1       0.79      0.81      0.80      1031\n",
      "           2       0.72      0.70      0.71      1088\n",
      "           3       0.86      0.88      0.87      1118\n",
      "\n",
      "    accuracy                           0.79      3237\n",
      "   macro avg       0.79      0.79      0.79      3237\n",
      "weighted avg       0.79      0.79      0.79      3237\n",
      "\n"
     ]
    }
   ],
   "source": [
    "print(classification_report(y_test, ytest_labels))"
   ]
  },
  {
   "cell_type": "code",
   "execution_count": 141,
   "metadata": {
    "ExecuteTime": {
     "end_time": "2019-10-22T13:06:48.294978Z",
     "start_time": "2019-10-22T13:06:48.279592Z"
    }
   },
   "outputs": [
    {
     "name": "stdout",
     "output_type": "stream",
     "text": [
      "<class 'sklearn.linear_model.logistic.LogisticRegression'>\n"
     ]
    }
   ],
   "source": [
    "test_logreg = load(\"../Models/MobileNetV2/LogReg1_Model1.joblib\")\n",
    "ytest_pred2 = test_logreg.predict(X_test)\n",
    "assert np.all(ytest_pred2 == ytest_labels)\n",
    "print(type(test_logreg))"
   ]
  },
  {
   "cell_type": "code",
   "execution_count": 151,
   "metadata": {
    "ExecuteTime": {
     "end_time": "2019-10-22T13:51:17.314998Z",
     "start_time": "2019-10-22T13:50:07.104767Z"
    }
   },
   "outputs": [
    {
     "data": {
      "text/plain": [
       "[<matplotlib.lines.Line2D at 0x13773ffd0>]"
      ]
     },
     "execution_count": 151,
     "metadata": {},
     "output_type": "execute_result"
    },
    {
     "data": {
      "image/png": "[encoded data removed]",
      "text/plain": [
       "<Figure size 720x720 with 1 Axes>"
      ]
     },
     "metadata": {
      "needs_background": "light"
     },
     "output_type": "display_data"
    }
   ],
   "source": [
    "from sklearn.decomposition import PCA\n",
    "\n",
    "avgScores = []\n",
    "\n",
    "for M in range(200, 1250, 50):\n",
    "    testPCA = PCA(n_components=M)\n",
    "    testPCA.fit(X_train)\n",
    "    avgScores.append(np.sum(testPCA.explained_variance_ratio_))\n",
    "    #print(testPCA.score(X_train))\n",
    "\n",
    "plt.plot(avgScores)"
   ]
  }
 ],
 "metadata": {
  "kernelspec": {
   "display_name": "Python [conda env:metis] *",
   "language": "python",
   "name": "conda-env-metis-py"
  },
  "language_info": {
   "codemirror_mode": {
    "name": "ipython",
    "version": 3
   },
   "file_extension": ".py",
   "mimetype": "text/x-python",
   "name": "python",
   "nbconvert_exporter": "python",
   "pygments_lexer": "ipython3",
   "version": "3.7.3"
  },
  "toc": {
   "base_numbering": 1,
   "nav_menu": {},
   "number_sections": true,
   "sideBar": true,
   "skip_h1_title": false,
   "title_cell": "Table of Contents",
   "title_sidebar": "Contents",
   "toc_cell": false,
   "toc_position": {},
   "toc_section_display": true,
   "toc_window_display": false
  }
 },
 "nbformat": 4,
 "nbformat_minor": 2
}
